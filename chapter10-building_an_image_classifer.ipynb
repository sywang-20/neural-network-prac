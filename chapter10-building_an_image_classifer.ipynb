{
 "cells": [
  {
   "cell_type": "markdown",
   "id": "respective-integrity",
   "metadata": {},
   "source": [
    "epoch：当一个完整的数据集通过了神经网络一次并且返回了一次，这个过程称为一次Epoch（所有训练样本在神经网络中都进行了一次正向传播和一次反向传播）\n",
    "\n",
    "batch:一个Epoch训练样本数量可能太过庞大，就需要把它分成多个小块，也就是就是分成多个Batch 来进行训练。\n",
    "\n",
    "batch_size:每批样本的大小。\n",
    "\n",
    "iteration:训练一个Batch就是一次Iteration。\n",
    "\n",
    "https://blog.csdn.net/weixin_38754799/article/details/109831970"
   ]
  },
  {
   "cell_type": "code",
   "execution_count": 1,
   "id": "continuing-charleston",
   "metadata": {},
   "outputs": [],
   "source": [
    "import tensorflow as tf   # import tensorflow\n",
    "from tensorflow import keras   # import keras\n",
    "import pandas as pd\n",
    "import matplotlib.pyplot as plt\n",
    "import numpy as np"
   ]
  },
  {
   "cell_type": "markdown",
   "id": "roman-surge",
   "metadata": {},
   "source": [
    "#### load dataset"
   ]
  },
  {
   "cell_type": "code",
   "execution_count": 2,
   "id": "strategic-length",
   "metadata": {},
   "outputs": [],
   "source": [
    "# load fashion mnist\n",
    "fashion_mnist=keras.datasets.fashion_mnist"
   ]
  },
  {
   "cell_type": "code",
   "execution_count": 4,
   "id": "interstate-cooperative",
   "metadata": {},
   "outputs": [],
   "source": [
    "# the dataset has been splitted into training set and test set\n",
    "(X_train_full,y_train_full),(X_test,y_test)=fashion_mnist.load_data()"
   ]
  },
  {
   "cell_type": "code",
   "execution_count": 5,
   "id": "english-population",
   "metadata": {},
   "outputs": [
    {
     "data": {
      "text/plain": [
       "(60000, 28, 28)"
      ]
     },
     "execution_count": 5,
     "metadata": {},
     "output_type": "execute_result"
    }
   ],
   "source": [
    "# 60000 pictures, 28*28 pixels\n",
    "X_train_full.shape"
   ]
  },
  {
   "cell_type": "code",
   "execution_count": 6,
   "id": "devoted-motel",
   "metadata": {},
   "outputs": [],
   "source": [
    "# create validation set and scale the input features because we will use gradient descent\n",
    "X_valid, X_train = X_train_full[:5000] / 255.0, X_train_full[5000:] / 255.0\n",
    "y_valid, y_train = y_train_full[:5000], y_train_full[5000:]"
   ]
  },
  {
   "cell_type": "code",
   "execution_count": 7,
   "id": "flush-minority",
   "metadata": {},
   "outputs": [],
   "source": [
    "class_names = [\"T-shirt/top\", \"Trouser\", \"Pullover\", \"Dress\", \"Coat\",\"Sandal\", \"Shirt\", \"Sneaker\", \"Bag\", \"Ankle boot\"]"
   ]
  },
  {
   "cell_type": "code",
   "execution_count": 8,
   "id": "superior-miami",
   "metadata": {},
   "outputs": [
    {
     "data": {
      "text/plain": [
       "'Coat'"
      ]
     },
     "execution_count": 8,
     "metadata": {},
     "output_type": "execute_result"
    }
   ],
   "source": [
    "class_names[y_train[0]]"
   ]
  },
  {
   "cell_type": "markdown",
   "id": "gentle-wales",
   "metadata": {},
   "source": [
    "#### creating model using the sequential API"
   ]
  },
  {
   "cell_type": "code",
   "execution_count": 9,
   "id": "subsequent-saturday",
   "metadata": {},
   "outputs": [],
   "source": [
    "# build the neural network: a classification MLP with two hidden layers\n",
    "# 创建一个sequential model，最简单的keras model\n",
    "model=keras.models.Sequential()  \n",
    "# first layer, to convert each input image into a 1D array\n",
    "model.add(keras.layers.Flatten(input_shape=[28,28]))  \n",
    "# 增加一个dense hidden layer，300个神经元，激活函数为ReLU\n",
    "model.add(keras.layers.Dense(300, activation=\"relu\"))\n",
    "# 增加第二个dense hidden layer，100个神经元，激活函数为ReLU\n",
    "model.add(keras.layers.Dense(100, activation=\"relu\"))\n",
    "# dense output layer，10个神经元（每个class对应一个），激活函数为softmax\n",
    "model.add(keras.layers.Dense(10, activation=\"softmax\"))"
   ]
  },
  {
   "cell_type": "code",
   "execution_count": null,
   "id": "provincial-dialogue",
   "metadata": {},
   "outputs": [],
   "source": [
    "# 或者在创建sequential model的同时，直接把各层layer丢进去\n",
    "'''\n",
    "model=keras.models.Sequential(\n",
    "    [\n",
    "        keras.layers.Flatten(input_shape=[28,28]),\n",
    "        keras.layers.Dense(300, activation=\"relu\"),\n",
    "        keras.layers.Dense(100, activation=\"relu\"),\n",
    "        keras.layers.Dense(10, activation=\"softmax\")\n",
    "    ]\n",
    ")'''"
   ]
  },
  {
   "cell_type": "code",
   "execution_count": 10,
   "id": "qualified-apparatus",
   "metadata": {},
   "outputs": [
    {
     "name": "stdout",
     "output_type": "stream",
     "text": [
      "Model: \"sequential\"\n",
      "_________________________________________________________________\n",
      " Layer (type)                Output Shape              Param #   \n",
      "=================================================================\n",
      " flatten (Flatten)           (None, 784)               0         \n",
      "                                                                 \n",
      " dense (Dense)               (None, 300)               235500    \n",
      "                                                                 \n",
      " dense_1 (Dense)             (None, 100)               30100     \n",
      "                                                                 \n",
      " dense_2 (Dense)             (None, 10)                1010      \n",
      "                                                                 \n",
      "=================================================================\n",
      "Total params: 266,610\n",
      "Trainable params: 266,610\n",
      "Non-trainable params: 0\n",
      "_________________________________________________________________\n"
     ]
    }
   ],
   "source": [
    "# 查看所有layer信息，包括name，output shape，number of parameters\n",
    "model.summary()"
   ]
  },
  {
   "cell_type": "code",
   "execution_count": 26,
   "id": "certified-closure",
   "metadata": {},
   "outputs": [],
   "source": [
    "weights,biases=model.layers[1].get_weights()"
   ]
  },
  {
   "cell_type": "code",
   "execution_count": 27,
   "id": "chemical-solution",
   "metadata": {},
   "outputs": [
    {
     "data": {
      "text/plain": [
       "array([[ 0.05679351,  0.04496163,  0.05245908, ...,  0.03877431,\n",
       "         0.04474773,  0.05409236],\n",
       "       [ 0.03384101,  0.02946174, -0.06947499, ..., -0.00394405,\n",
       "        -0.05674815,  0.06662317],\n",
       "       [-0.05259575, -0.00846025,  0.00281113, ...,  0.06809573,\n",
       "        -0.07235403, -0.04419785],\n",
       "       ...,\n",
       "       [ 0.06504199, -0.05851411, -0.04070387, ..., -0.01570598,\n",
       "         0.03217216,  0.04528802],\n",
       "       [ 0.00701483,  0.06001338, -0.03198949, ..., -0.06669988,\n",
       "         0.02508453, -0.04320345],\n",
       "       [ 0.04886741, -0.03182865,  0.02542028, ..., -0.04646078,\n",
       "         0.0452695 , -0.02311349]], dtype=float32)"
      ]
     },
     "execution_count": 27,
     "metadata": {},
     "output_type": "execute_result"
    }
   ],
   "source": [
    "weights"
   ]
  },
  {
   "cell_type": "code",
   "execution_count": 28,
   "id": "cutting-november",
   "metadata": {},
   "outputs": [
    {
     "data": {
      "text/plain": [
       "array([0., 0., 0., 0., 0., 0., 0., 0., 0., 0., 0., 0., 0., 0., 0., 0., 0.,\n",
       "       0., 0., 0., 0., 0., 0., 0., 0., 0., 0., 0., 0., 0., 0., 0., 0., 0.,\n",
       "       0., 0., 0., 0., 0., 0., 0., 0., 0., 0., 0., 0., 0., 0., 0., 0., 0.,\n",
       "       0., 0., 0., 0., 0., 0., 0., 0., 0., 0., 0., 0., 0., 0., 0., 0., 0.,\n",
       "       0., 0., 0., 0., 0., 0., 0., 0., 0., 0., 0., 0., 0., 0., 0., 0., 0.,\n",
       "       0., 0., 0., 0., 0., 0., 0., 0., 0., 0., 0., 0., 0., 0., 0., 0., 0.,\n",
       "       0., 0., 0., 0., 0., 0., 0., 0., 0., 0., 0., 0., 0., 0., 0., 0., 0.,\n",
       "       0., 0., 0., 0., 0., 0., 0., 0., 0., 0., 0., 0., 0., 0., 0., 0., 0.,\n",
       "       0., 0., 0., 0., 0., 0., 0., 0., 0., 0., 0., 0., 0., 0., 0., 0., 0.,\n",
       "       0., 0., 0., 0., 0., 0., 0., 0., 0., 0., 0., 0., 0., 0., 0., 0., 0.,\n",
       "       0., 0., 0., 0., 0., 0., 0., 0., 0., 0., 0., 0., 0., 0., 0., 0., 0.,\n",
       "       0., 0., 0., 0., 0., 0., 0., 0., 0., 0., 0., 0., 0., 0., 0., 0., 0.,\n",
       "       0., 0., 0., 0., 0., 0., 0., 0., 0., 0., 0., 0., 0., 0., 0., 0., 0.,\n",
       "       0., 0., 0., 0., 0., 0., 0., 0., 0., 0., 0., 0., 0., 0., 0., 0., 0.,\n",
       "       0., 0., 0., 0., 0., 0., 0., 0., 0., 0., 0., 0., 0., 0., 0., 0., 0.,\n",
       "       0., 0., 0., 0., 0., 0., 0., 0., 0., 0., 0., 0., 0., 0., 0., 0., 0.,\n",
       "       0., 0., 0., 0., 0., 0., 0., 0., 0., 0., 0., 0., 0., 0., 0., 0., 0.,\n",
       "       0., 0., 0., 0., 0., 0., 0., 0., 0., 0., 0.], dtype=float32)"
      ]
     },
     "execution_count": 28,
     "metadata": {},
     "output_type": "execute_result"
    }
   ],
   "source": [
    "biases"
   ]
  },
  {
   "cell_type": "markdown",
   "id": "sonic-partner",
   "metadata": {},
   "source": [
    "#### compile the model"
   ]
  },
  {
   "cell_type": "code",
   "execution_count": 11,
   "id": "finished-consortium",
   "metadata": {},
   "outputs": [],
   "source": [
    "# specify the loss function and optimizer\n",
    "model.compile(loss='sparse_categorical_crossentropy',\n",
    "             optimizer='sgd ', # stochastic gradient descent\n",
    "             metrics=['accuracy'])"
   ]
  },
  {
   "cell_type": "markdown",
   "id": "green-commerce",
   "metadata": {},
   "source": [
    "#### train and evaluate the model"
   ]
  },
  {
   "cell_type": "code",
   "execution_count": 12,
   "id": "committed-occasion",
   "metadata": {},
   "outputs": [
    {
     "name": "stdout",
     "output_type": "stream",
     "text": [
      "Epoch 1/30\n",
      "1719/1719 [==============================] - 13s 2ms/step - loss: 0.7160 - accuracy: 0.7667 - val_loss: 0.5162 - val_accuracy: 0.8194\n",
      "Epoch 2/30\n",
      "1719/1719 [==============================] - 4s 2ms/step - loss: 0.4857 - accuracy: 0.8303 - val_loss: 0.4326 - val_accuracy: 0.8524\n",
      "Epoch 3/30\n",
      "1719/1719 [==============================] - 4s 2ms/step - loss: 0.4415 - accuracy: 0.8451 - val_loss: 0.4313 - val_accuracy: 0.8508\n",
      "Epoch 4/30\n",
      "1719/1719 [==============================] - 4s 2ms/step - loss: 0.4149 - accuracy: 0.8542 - val_loss: 0.4094 - val_accuracy: 0.8584\n",
      "Epoch 5/30\n",
      "1719/1719 [==============================] - 3s 2ms/step - loss: 0.3950 - accuracy: 0.8606 - val_loss: 0.3839 - val_accuracy: 0.8690\n",
      "Epoch 6/30\n",
      "1719/1719 [==============================] - 4s 2ms/step - loss: 0.3787 - accuracy: 0.8665 - val_loss: 0.3633 - val_accuracy: 0.8702\n",
      "Epoch 7/30\n",
      "1719/1719 [==============================] - 4s 2ms/step - loss: 0.3656 - accuracy: 0.8697 - val_loss: 0.3595 - val_accuracy: 0.8742\n",
      "Epoch 8/30\n",
      "1719/1719 [==============================] - 4s 2ms/step - loss: 0.3529 - accuracy: 0.8750 - val_loss: 0.3674 - val_accuracy: 0.8664\n",
      "Epoch 9/30\n",
      "1719/1719 [==============================] - 3s 2ms/step - loss: 0.3429 - accuracy: 0.8780 - val_loss: 0.3663 - val_accuracy: 0.8666\n",
      "Epoch 10/30\n",
      "1719/1719 [==============================] - 4s 2ms/step - loss: 0.3340 - accuracy: 0.8814 - val_loss: 0.3637 - val_accuracy: 0.8706\n",
      "Epoch 11/30\n",
      "1719/1719 [==============================] - 4s 2ms/step - loss: 0.3261 - accuracy: 0.8843 - val_loss: 0.3339 - val_accuracy: 0.8786\n",
      "Epoch 12/30\n",
      "1719/1719 [==============================] - 4s 2ms/step - loss: 0.3172 - accuracy: 0.8847 - val_loss: 0.3345 - val_accuracy: 0.8774\n",
      "Epoch 13/30\n",
      "1719/1719 [==============================] - 3s 2ms/step - loss: 0.3107 - accuracy: 0.8888 - val_loss: 0.3312 - val_accuracy: 0.8832\n",
      "Epoch 14/30\n",
      "1719/1719 [==============================] - 4s 2ms/step - loss: 0.3031 - accuracy: 0.8903 - val_loss: 0.3268 - val_accuracy: 0.8840\n",
      "Epoch 15/30\n",
      "1719/1719 [==============================] - 4s 2ms/step - loss: 0.2972 - accuracy: 0.8950 - val_loss: 0.3161 - val_accuracy: 0.8866\n",
      "Epoch 16/30\n",
      "1719/1719 [==============================] - 3s 2ms/step - loss: 0.2914 - accuracy: 0.8942 - val_loss: 0.3249 - val_accuracy: 0.8822\n",
      "Epoch 17/30\n",
      "1719/1719 [==============================] - 4s 2ms/step - loss: 0.2850 - accuracy: 0.8985 - val_loss: 0.3213 - val_accuracy: 0.8826\n",
      "Epoch 18/30\n",
      "1719/1719 [==============================] - 4s 2ms/step - loss: 0.2793 - accuracy: 0.9002 - val_loss: 0.3128 - val_accuracy: 0.8868\n",
      "Epoch 19/30\n",
      "1719/1719 [==============================] - 3s 2ms/step - loss: 0.2741 - accuracy: 0.9004 - val_loss: 0.3173 - val_accuracy: 0.8890\n",
      "Epoch 20/30\n",
      "1719/1719 [==============================] - 4s 2ms/step - loss: 0.2699 - accuracy: 0.9031 - val_loss: 0.3044 - val_accuracy: 0.8866\n",
      "Epoch 21/30\n",
      "1719/1719 [==============================] - 4s 2ms/step - loss: 0.2640 - accuracy: 0.9054 - val_loss: 0.3152 - val_accuracy: 0.8852\n",
      "Epoch 22/30\n",
      "1719/1719 [==============================] - 4s 2ms/step - loss: 0.2588 - accuracy: 0.9068 - val_loss: 0.3161 - val_accuracy: 0.8864\n",
      "Epoch 23/30\n",
      "1719/1719 [==============================] - 3s 2ms/step - loss: 0.2557 - accuracy: 0.9073 - val_loss: 0.3164 - val_accuracy: 0.8832\n",
      "Epoch 24/30\n",
      "1719/1719 [==============================] - 4s 2ms/step - loss: 0.2517 - accuracy: 0.9086 - val_loss: 0.2987 - val_accuracy: 0.8912\n",
      "Epoch 25/30\n",
      "1719/1719 [==============================] - 4s 2ms/step - loss: 0.2471 - accuracy: 0.9100 - val_loss: 0.3083 - val_accuracy: 0.8854\n",
      "Epoch 26/30\n",
      "1719/1719 [==============================] - 4s 2ms/step - loss: 0.2429 - accuracy: 0.9126 - val_loss: 0.2982 - val_accuracy: 0.8924\n",
      "Epoch 27/30\n",
      "1719/1719 [==============================] - 3s 2ms/step - loss: 0.2393 - accuracy: 0.9131 - val_loss: 0.3176 - val_accuracy: 0.8848\n",
      "Epoch 28/30\n",
      "1719/1719 [==============================] - 3s 2ms/step - loss: 0.2343 - accuracy: 0.9159 - val_loss: 0.2960 - val_accuracy: 0.8878\n",
      "Epoch 29/30\n",
      "1719/1719 [==============================] - 4s 2ms/step - loss: 0.2315 - accuracy: 0.9164 - val_loss: 0.3030 - val_accuracy: 0.8922\n",
      "Epoch 30/30\n",
      "1719/1719 [==============================] - 3s 2ms/step - loss: 0.2269 - accuracy: 0.9184 - val_loss: 0.3087 - val_accuracy: 0.8896\n"
     ]
    }
   ],
   "source": [
    "history=model.fit(X_train,y_train,epochs=30,   # input:input features + traget classes + number of epoches\n",
    "                 validation_data=(X_valid,y_valid))   # validation_data: to detect whether overfit"
   ]
  },
  {
   "cell_type": "code",
   "execution_count": 17,
   "id": "color-conference",
   "metadata": {},
   "outputs": [
    {
     "data": {
      "image/png": "[encoded data removed]",
      "text/plain": [
       "<Figure size 576x360 with 1 Axes>"
      ]
     },
     "metadata": {
      "needs_background": "light"
     },
     "output_type": "display_data"
    }
   ],
   "source": [
    "# plot learning curve\n",
    "pd.DataFrame(history.history).plot(figsize=(8, 5))\n",
    "plt.grid(True)\n",
    "plt.gca().set_ylim(0, 1) # set the vertical range to [0-1]\n",
    "plt.show()"
   ]
  },
  {
   "cell_type": "code",
   "execution_count": 18,
   "id": "warming-gates",
   "metadata": {},
   "outputs": [
    {
     "name": "stdout",
     "output_type": "stream",
     "text": [
      "313/313 [==============================] - 1s 2ms/step - loss: 70.4500 - accuracy: 0.8356\n"
     ]
    },
    {
     "data": {
      "text/plain": [
       "[70.44995880126953, 0.8356000185012817]"
      ]
     },
     "execution_count": 18,
     "metadata": {},
     "output_type": "execute_result"
    }
   ],
   "source": [
    "# 如果不满意，可以回去继续调整hyperparameters，比如the number of layers, the number of neurons per layer,\n",
    "# the types of activation functions we use for each hidden layer, the number of training epochs, the batch size\n",
    "# 如果满意，则用这个模型在test set计算泛化误差\n",
    "model.evaluate(X_test,y_test)"
   ]
  },
  {
   "cell_type": "code",
   "execution_count": 19,
   "id": "conscious-painting",
   "metadata": {},
   "outputs": [
    {
     "name": "stdout",
     "output_type": "stream",
     "text": [
      "1/1 [==============================] - 0s 117ms/step\n"
     ]
    },
    {
     "data": {
      "text/plain": [
       "array([[0., 0., 0., 0., 0., 0., 0., 0., 0., 1.],\n",
       "       [0., 0., 1., 0., 0., 0., 0., 0., 0., 0.],\n",
       "       [0., 1., 0., 0., 0., 0., 0., 0., 0., 0.]], dtype=float32)"
      ]
     },
     "execution_count": 19,
     "metadata": {},
     "output_type": "execute_result"
    }
   ],
   "source": [
    "# 用于predict\n",
    "X_new=X_test[:3]\n",
    "y_proba=model.predict(X_new)\n",
    "y_proba.round(2)"
   ]
  },
  {
   "cell_type": "code",
   "execution_count": 25,
   "id": "selective-elements",
   "metadata": {},
   "outputs": [
    {
     "data": {
      "text/plain": [
       "array([9, 2, 1], dtype=int64)"
      ]
     },
     "execution_count": 25,
     "metadata": {},
     "output_type": "execute_result"
    }
   ],
   "source": [
    "y_pred=np.argmax(y_proba,axis=1)\n",
    "y_pred"
   ]
  },
  {
   "cell_type": "code",
   "execution_count": 26,
   "id": "caroline-mediterranean",
   "metadata": {},
   "outputs": [
    {
     "data": {
      "text/plain": [
       "array(['Ankle boot', 'Pullover', 'Trouser'], dtype='<U11')"
      ]
     },
     "execution_count": 26,
     "metadata": {},
     "output_type": "execute_result"
    }
   ],
   "source": [
    "np.array(class_names)[y_pred]"
   ]
  }
 ],
 "metadata": {
  "kernelspec": {
   "display_name": "sds2020",
   "language": "python",
   "name": "sds2020"
  },
  "language_info": {
   "codemirror_mode": {
    "name": "ipython",
    "version": 3
   },
   "file_extension": ".py",
   "mimetype": "text/x-python",
   "name": "python",
   "nbconvert_exporter": "python",
   "pygments_lexer": "ipython3",
   "version": "3.8.8"
  }
 },
 "nbformat": 4,
 "nbformat_minor": 5
}
